{
 "cells": [
  {
   "cell_type": "code",
   "execution_count": 26,
   "metadata": {},
   "outputs": [],
   "source": [
    "import pandas as pd\n",
    "from functools import reduce\n",
    "import warnings\n",
    "warnings.filterwarnings(action='ignore')"
   ]
  },
  {
   "cell_type": "markdown",
   "metadata": {},
   "source": [
    "## 데이터 불러오기"
   ]
  },
  {
   "cell_type": "code",
   "execution_count": 2,
   "metadata": {},
   "outputs": [],
   "source": [
    "def substr(df):\n",
    "    df['품목'] = df['품목'].str[:-2]\n",
    "    return df"
   ]
  },
  {
   "cell_type": "code",
   "execution_count": 37,
   "metadata": {},
   "outputs": [],
   "source": [
    "# 농산물 데이터\n",
    "df1_2016 = pd.read_csv('전처리_완료_data/농산물_df_2016.csv', index_col = '품목')\n",
    "df1_2017 = pd.read_csv('전처리_완료_data/농산물_df_2017.csv', index_col = '품목')\n",
    "df1_2018 = pd.read_csv('전처리_완료_data/농산물_df_2018.csv', index_col = '품목')\n",
    "df1_2019 = pd.read_csv('전처리_완료_data/농산물_df_2019.csv', index_col = '품목')\n",
    "df1_2020 = pd.read_csv('전처리_완료_data/농산물_df_2020.csv', index_col = '품목')\n",
    "\n",
    "dfs = [df1_2016, df1_2017, df1_2018, df1_2019, df1_2020]\n",
    "df1 = reduce(lambda left, right : pd.merge(left, right, how = 'outer', on='AGCODE',left_index = True, right_index=True), dfs).T"
   ]
  },
  {
   "cell_type": "code",
   "execution_count": 4,
   "metadata": {},
   "outputs": [],
   "source": [
    "# 축산물 데이터\n",
    "df2_2016 = pd.read_csv('전처리_완료_data/축산물_df_2016.csv')\n",
    "df2_2017 = pd.read_csv('전처리_완료_data/축산물_df_2017.csv')\n",
    "df2_2018 = pd.read_csv('전처리_완료_data/축산물_df_2018.csv')\n",
    "df2_2019 = pd.read_csv('전처리_완료_data/축산물_df_2019.csv')\n",
    "df2_2020 = pd.read_csv('전처리_완료_data/축산물_df_2020.csv')\n",
    "\n",
    "dfs = [df2_2016, df2_2017, df2_2018, df2_2019, df2_2020]\n",
    "df2 = reduce(lambda left, right : pd.merge(left, right, how = 'outer'), dfs)\n",
    "df2 = df2.dropna().reset_index(drop=True)\n",
    "df2 = substr(df2).T\n",
    "\n",
    "df2_col = list(df2.iloc[1])\n",
    "df2.columns = df2_col\n",
    "df2 = df2.drop('품목',axis=0)"
   ]
  },
  {
   "cell_type": "code",
   "execution_count": 11,
   "metadata": {},
   "outputs": [],
   "source": [
    "# 임산물 데이터\n",
    "df3_2016 = pd.read_csv('전처리_완료_data/임산물_df_2016.csv')\n",
    "df3_2017 = pd.read_csv('전처리_완료_data/임산물_df_2017.csv')\n",
    "df3_2018 = pd.read_csv('전처리_완료_data/임산물_df_2018.csv')\n",
    "df3_2019 = pd.read_csv('전처리_완료_data/임산물_df_2019.csv')\n",
    "df3_2020 = pd.read_csv('전처리_완료_data/임산물_df_2020.csv')\n",
    "\n",
    "dfs = [df3_2016, df3_2017, df3_2018, df3_2019, df3_2020]\n",
    "df3 = reduce(lambda left, right : pd.merge(left, right, how = 'outer'), dfs)\n",
    "df3 = substr(df3).T\n",
    "\n",
    "df3_col = list(df3.iloc[1])\n",
    "df3.columns = df3_col\n",
    "df3 = df3.drop('품목',axis=0)"
   ]
  },
  {
   "cell_type": "code",
   "execution_count": 12,
   "metadata": {},
   "outputs": [],
   "source": [
    "# 수산물 데이터\n",
    "df4_2016 = pd.read_csv('전처리_완료_data/수산물_df_2016.csv')\n",
    "df4_2017 = pd.read_csv('전처리_완료_data/수산물_df_2017.csv')\n",
    "df4_2018 = pd.read_csv('전처리_완료_data/수산물_df_2018.csv')\n",
    "df4_2019 = pd.read_csv('전처리_완료_data/수산물_df_2019.csv')\n",
    "df4_2020 = pd.read_csv('전처리_완료_data/수산물_df_2020.csv')\n",
    "\n",
    "dfs = [df4_2016, df4_2017, df4_2018, df4_2019, df4_2020]\n",
    "df4 = reduce(lambda left, right : pd.merge(left, right, how = 'outer'), dfs)\n",
    "df4 = substr(df4).T\n",
    "\n",
    "df4_col = list(df4.iloc[1])\n",
    "df4.columns = df4_col\n",
    "df4 = df4.drop('품목',axis=0)"
   ]
  },
  {
   "cell_type": "code",
   "execution_count": 38,
   "metadata": {},
   "outputs": [],
   "source": [
    "df1.to_csv('농산물.csv', index = True)\n",
    "df2.to_csv('축산물.csv', index = True)\n",
    "df3.to_csv('임산물.csv', index = True)\n",
    "df4.to_csv('수산물.csv', index = True)"
   ]
  }
 ],
 "metadata": {
  "kernelspec": {
   "display_name": "Python 3",
   "language": "python",
   "name": "python3"
  },
  "language_info": {
   "codemirror_mode": {
    "name": "ipython",
    "version": 3
   },
   "file_extension": ".py",
   "mimetype": "text/x-python",
   "name": "python",
   "nbconvert_exporter": "python",
   "pygments_lexer": "ipython3",
   "version": "3.8.5"
  }
 },
 "nbformat": 4,
 "nbformat_minor": 4
}
